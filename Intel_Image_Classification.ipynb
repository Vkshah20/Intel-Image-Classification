{
  "nbformat": 4,
  "nbformat_minor": 0,
  "metadata": {
    "colab": {
      "name": "Copy of Intel Image Classification _ update.ipynb",
      "provenance": [],
      "collapsed_sections": [],
      "include_colab_link": true
    },
    "kernelspec": {
      "name": "python3",
      "display_name": "Python 3"
    },
    "accelerator": "GPU"
  },
  "cells": [
    {
      "cell_type": "markdown",
      "metadata": {
        "id": "view-in-github",
        "colab_type": "text"
      },
      "source": [
        "<a href=\"https://colab.research.google.com/github/Vkshah20/Intel-Image-Classification/blob/master/Intel_Image_Classification.ipynb\" target=\"_parent\"><img src=\"https://colab.research.google.com/assets/colab-badge.svg\" alt=\"Open In Colab\"/></a>"
      ]
    },
    {
      "cell_type": "code",
      "metadata": {
        "id": "7-Ztk1B5k9I0",
        "colab_type": "code",
        "colab": {}
      },
      "source": [
        "import matplotlib.pyplot as plt\n",
        "from tensorflow.keras.preprocessing.image import ImageDataGenerator\n",
        "from tensorflow.keras import Sequential, Model\n",
        "from tensorflow.keras.layers import  Conv2D, MaxPooling2D, Flatten, Dense, Dropout\n",
        "from tensorflow.keras.callbacks import  Callback, TensorBoard, LearningRateScheduler\n",
        "from tensorflow.keras import metrics \n",
        "from tensorflow import summary, math\n",
        "import matplotlib.pyplot as plt\n",
        "import numpy as np"
      ],
      "execution_count": 25,
      "outputs": []
    },
    {
      "cell_type": "code",
      "metadata": {
        "id": "_i-b9feebqXv",
        "colab_type": "code",
        "colab": {
          "base_uri": "https://localhost:8080/",
          "height": 54
        },
        "outputId": "96c55491-db92-4e63-e7f1-29b9ad89252c"
      },
      "source": [
        "from google.colab import drive\n",
        "drive.mount('/content/drive')"
      ],
      "execution_count": 2,
      "outputs": [
        {
          "output_type": "stream",
          "text": [
            "Drive already mounted at /content/drive; to attempt to forcibly remount, call drive.mount(\"/content/drive\", force_remount=True).\n"
          ],
          "name": "stdout"
        }
      ]
    },
    {
      "cell_type": "code",
      "metadata": {
        "id": "TdcHoO9koQCu",
        "colab_type": "code",
        "colab": {}
      },
      "source": [
        "from zipfile import ZipFile\n",
        "# Create a ZipFile Object and load sample.zip in it\n",
        "with ZipFile('drive/My Drive/DATA.zip', 'r') as zipObj:\n",
        "    zipObj.extractall()"
      ],
      "execution_count": 4,
      "outputs": []
    },
    {
      "cell_type": "code",
      "metadata": {
        "id": "VHyM6DITlNmE",
        "colab_type": "code",
        "colab": {}
      },
      "source": [
        "class MyCall(Callback):\n",
        "    def on_epoch_end(self, epochIndex, logs={}):\n",
        "        if(logs['acc'] > 0.95):\n",
        "            self.model.stop_training = True\n",
        "        if(np.abs(logs['acc'] - logs['val_acc']) > 0.025 and epochIndex > 10):\n",
        "            self.model.stop_training = True\n",
        "        \n",
        "\n",
        "def lrCallBack(epoch):\n",
        "    if epoch == 0 :\n",
        "        return 0.001\n",
        "    lr = 0.001\n",
        "    k = 0.1\n",
        "    newLr = lr * (1 / np.sqrt(epoch))\n",
        "    summary.scalar(name = 'Learning Rate', data = newLr, step = epoch)\n",
        "    return newLr\n",
        "\n",
        "lrCall = LearningRateScheduler(lrCallBack)\n",
        "calls = MyCall()\n",
        "tbCall = TensorBoard('logs', histogram_freq = 1)\n"
      ],
      "execution_count": 3,
      "outputs": []
    },
    {
      "cell_type": "code",
      "metadata": {
        "id": "5D7C68M2lV8G",
        "colab_type": "code",
        "colab": {
          "base_uri": "https://localhost:8080/",
          "height": 51
        },
        "outputId": "6d6af9b5-de37-48de-e3ff-7ca29df11fed"
      },
      "source": [
        "trainP = 'DATA/seg_train'\n",
        "testP = 'DATA/seg_test'\n",
        "\n",
        "trainDataGen = ImageDataGenerator(\n",
        "    rescale = 1./255,\n",
        "    rotation_range=40,\n",
        "    zoom_range=0.2,)\n",
        "testDataGen = ImageDataGenerator(rescale = 1./255)\n",
        "\n",
        "trainGen = trainDataGen.flow_from_directory(\n",
        "    trainP,\n",
        "    target_size = (150,150),\n",
        "    batch_size = 64,\n",
        "    class_mode = 'categorical')\n",
        "\n",
        "testGen = testDataGen.flow_from_directory(\n",
        "    testP,\n",
        "    target_size = (150,150),\n",
        "    batch_size = 64,\n",
        "    class_mode = 'categorical')\n",
        "\n"
      ],
      "execution_count": 4,
      "outputs": [
        {
          "output_type": "stream",
          "text": [
            "Found 14034 images belonging to 6 classes.\n",
            "Found 3000 images belonging to 6 classes.\n"
          ],
          "name": "stdout"
        }
      ]
    },
    {
      "cell_type": "code",
      "metadata": {
        "id": "gavVmGenlnMw",
        "colab_type": "code",
        "colab": {}
      },
      "source": [
        "model = Sequential([\n",
        "    Conv2D(32, (3,3), input_shape = (150,150, 3), activation = 'relu'),\n",
        "    MaxPooling2D((2,2)),\n",
        "    Conv2D(64, (3,3), activation = 'relu'),\n",
        "    MaxPooling2D((2,2)),\n",
        "    Conv2D(128, (3,3), activation = 'relu'),\n",
        "    MaxPooling2D(2,2),\n",
        "    Conv2D(128, (3,3), activation = 'relu'),\n",
        "    MaxPooling2D(2,2),\n",
        "    Flatten(),\n",
        "    Dense(1024, activation = 'relu'),\n",
        "    Dropout(0.5),\n",
        "    Dense(128, activation = 'relu'),\n",
        "    Dense(6, activation = 'softmax'),\n",
        "    ])\n",
        "model.compile('adam', 'categorical_crossentropy', ['acc', metrics.MeanSquaredError(), metrics.Precision(),  metrics.Recall()])\n"
      ],
      "execution_count": 5,
      "outputs": []
    },
    {
      "cell_type": "code",
      "metadata": {
        "id": "Y9cDjpY14Ig5",
        "colab_type": "code",
        "colab": {
          "base_uri": "https://localhost:8080/",
          "height": 632
        },
        "outputId": "def8c0e0-2c3d-42b4-8c1b-f4a4843054f1"
      },
      "source": [
        "model.fit_generator(\n",
        "    trainGen,\n",
        "    epochs = 100,\n",
        "    callbacks = [calls, tbCall,lrCall],\n",
        "    validation_data = testGen,)\n",
        "model.save('kaggle.hdf5')\n"
      ],
      "execution_count": 8,
      "outputs": [
        {
          "output_type": "stream",
          "text": [
            "WARNING:tensorflow:From <ipython-input-8-22800e780685>:5: Model.fit_generator (from tensorflow.python.keras.engine.training) is deprecated and will be removed in a future version.\n",
            "Instructions for updating:\n",
            "Please use Model.fit, which supports generators.\n",
            "Epoch 1/100\n",
            "  1/220 [..............................] - ETA: 0s - loss: 1.7779 - acc: 0.2188 - mean_squared_error: 0.1381 - precision: 0.0000e+00 - recall: 0.0000e+00WARNING:tensorflow:From /usr/local/lib/python3.6/dist-packages/tensorflow/python/ops/summary_ops_v2.py:1277: stop (from tensorflow.python.eager.profiler) is deprecated and will be removed after 2020-07-01.\n",
            "Instructions for updating:\n",
            "use `tf.profiler.experimental.stop` instead.\n",
            "  2/220 [..............................] - ETA: 9s - loss: 1.8737 - acc: 0.2266 - mean_squared_error: 0.1445 - precision: 0.2857 - recall: 0.0625        WARNING:tensorflow:Callbacks method `on_train_batch_end` is slow compared to the batch time (batch time: 0.0252s vs `on_train_batch_end` time: 0.0604s). Check your callbacks.\n",
            "220/220 [==============================] - 78s 354ms/step - loss: 1.2184 - acc: 0.5016 - mean_squared_error: 0.1019 - precision: 0.6905 - recall: 0.2902 - val_loss: 1.0822 - val_acc: 0.5687 - val_mean_squared_error: 0.0906 - val_precision: 0.6770 - val_recall: 0.4813\n",
            "Epoch 2/100\n",
            "220/220 [==============================] - 78s 354ms/step - loss: 0.9622 - acc: 0.6302 - mean_squared_error: 0.0823 - precision: 0.7376 - recall: 0.4777 - val_loss: 0.9581 - val_acc: 0.6523 - val_mean_squared_error: 0.0794 - val_precision: 0.7329 - val_recall: 0.5450\n",
            "Epoch 3/100\n",
            "220/220 [==============================] - 78s 354ms/step - loss: 0.8239 - acc: 0.6927 - mean_squared_error: 0.0704 - precision: 0.7725 - recall: 0.5910 - val_loss: 0.6648 - val_acc: 0.7557 - val_mean_squared_error: 0.0580 - val_precision: 0.8016 - val_recall: 0.6963\n",
            "Epoch 4/100\n",
            "220/220 [==============================] - 78s 353ms/step - loss: 0.7403 - acc: 0.7281 - mean_squared_error: 0.0635 - precision: 0.7936 - recall: 0.6462 - val_loss: 0.5888 - val_acc: 0.7923 - val_mean_squared_error: 0.0506 - val_precision: 0.8314 - val_recall: 0.7463\n",
            "Epoch 5/100\n",
            "220/220 [==============================] - 78s 352ms/step - loss: 0.6834 - acc: 0.7531 - mean_squared_error: 0.0585 - precision: 0.8068 - recall: 0.6863 - val_loss: 0.6563 - val_acc: 0.7710 - val_mean_squared_error: 0.0555 - val_precision: 0.8076 - val_recall: 0.7250\n",
            "Epoch 6/100\n",
            "220/220 [==============================] - 78s 352ms/step - loss: 0.6288 - acc: 0.7708 - mean_squared_error: 0.0542 - precision: 0.8174 - recall: 0.7182 - val_loss: 0.5528 - val_acc: 0.8110 - val_mean_squared_error: 0.0469 - val_precision: 0.8339 - val_recall: 0.7700\n",
            "Epoch 7/100\n",
            "220/220 [==============================] - 77s 352ms/step - loss: 0.5844 - acc: 0.7890 - mean_squared_error: 0.0501 - precision: 0.8330 - recall: 0.7429 - val_loss: 0.6486 - val_acc: 0.7680 - val_mean_squared_error: 0.0544 - val_precision: 0.8100 - val_recall: 0.7333\n",
            "Epoch 8/100\n",
            "220/220 [==============================] - 78s 352ms/step - loss: 0.5561 - acc: 0.8000 - mean_squared_error: 0.0480 - precision: 0.8387 - recall: 0.7550 - val_loss: 0.5162 - val_acc: 0.8200 - val_mean_squared_error: 0.0440 - val_precision: 0.8384 - val_recall: 0.7920\n",
            "Epoch 9/100\n",
            "220/220 [==============================] - 77s 351ms/step - loss: 0.5262 - acc: 0.8118 - mean_squared_error: 0.0453 - precision: 0.8479 - recall: 0.7739 - val_loss: 0.5042 - val_acc: 0.8233 - val_mean_squared_error: 0.0431 - val_precision: 0.8452 - val_recall: 0.8043\n",
            "Epoch 10/100\n",
            "220/220 [==============================] - 77s 351ms/step - loss: 0.5115 - acc: 0.8145 - mean_squared_error: 0.0443 - precision: 0.8495 - recall: 0.7780 - val_loss: 0.5509 - val_acc: 0.8013 - val_mean_squared_error: 0.0478 - val_precision: 0.8297 - val_recall: 0.7763\n",
            "Epoch 11/100\n",
            "220/220 [==============================] - 78s 352ms/step - loss: 0.4841 - acc: 0.8256 - mean_squared_error: 0.0421 - precision: 0.8554 - recall: 0.7905 - val_loss: 0.4989 - val_acc: 0.8240 - val_mean_squared_error: 0.0428 - val_precision: 0.8456 - val_recall: 0.8017\n",
            "Epoch 12/100\n",
            "220/220 [==============================] - 77s 350ms/step - loss: 0.4672 - acc: 0.8328 - mean_squared_error: 0.0406 - precision: 0.8624 - recall: 0.8015 - val_loss: 0.5495 - val_acc: 0.8110 - val_mean_squared_error: 0.0457 - val_precision: 0.8382 - val_recall: 0.7790\n",
            "Epoch 13/100\n",
            "220/220 [==============================] - 77s 351ms/step - loss: 0.4456 - acc: 0.8379 - mean_squared_error: 0.0388 - precision: 0.8667 - recall: 0.8094 - val_loss: 0.4663 - val_acc: 0.8410 - val_mean_squared_error: 0.0390 - val_precision: 0.8582 - val_recall: 0.8213\n",
            "Epoch 14/100\n",
            "220/220 [==============================] - 77s 350ms/step - loss: 0.4331 - acc: 0.8452 - mean_squared_error: 0.0377 - precision: 0.8711 - recall: 0.8202 - val_loss: 0.5318 - val_acc: 0.8147 - val_mean_squared_error: 0.0453 - val_precision: 0.8375 - val_recall: 0.7970\n"
          ],
          "name": "stdout"
        }
      ]
    },
    {
      "cell_type": "code",
      "metadata": {
        "id": "4FoY7p9-WA7m",
        "colab_type": "code",
        "colab": {
          "base_uri": "https://localhost:8080/",
          "height": 289
        },
        "outputId": "6bccdffa-57db-4079-df20-128655c9a876"
      },
      "source": [
        "from google.colab import files\n",
        "!zip -r logs.zip logs\n",
        "files.download('logs.zip')"
      ],
      "execution_count": 14,
      "outputs": [
        {
          "output_type": "stream",
          "text": [
            "updating: logs/ (stored 0%)\n",
            "updating: logs/train/ (stored 0%)\n",
            "updating: logs/train/plugins/ (stored 0%)\n",
            "updating: logs/train/plugins/profile/ (stored 0%)\n",
            "updating: logs/train/plugins/profile/2020_09_17_12_53_39/ (stored 0%)\n",
            "updating: logs/train/plugins/profile/2020_09_17_12_53_39/a0375cdf3e92.trace.json.gz (deflated 0%)\n",
            "updating: logs/train/plugins/profile/2020_09_17_12_53_39/a0375cdf3e92.input_pipeline.pb (deflated 56%)\n",
            "updating: logs/train/plugins/profile/2020_09_17_12_53_39/a0375cdf3e92.memory_profile.json.gz (stored 0%)\n",
            "updating: logs/train/plugins/profile/2020_09_17_12_53_39/a0375cdf3e92.xplane.pb (deflated 81%)\n",
            "updating: logs/train/plugins/profile/2020_09_17_12_53_39/a0375cdf3e92.tensorflow_stats.pb (deflated 76%)\n",
            "updating: logs/train/plugins/profile/2020_09_17_12_53_39/a0375cdf3e92.overview_page.pb (deflated 60%)\n",
            "updating: logs/train/plugins/profile/2020_09_17_12_53_39/a0375cdf3e92.kernel_stats.pb (deflated 93%)\n",
            "updating: logs/train/events.out.tfevents.1600347215.a0375cdf3e92.1476.314.v2 (deflated 85%)\n",
            "updating: logs/train/events.out.tfevents.1600347219.a0375cdf3e92.profile-empty (deflated 5%)\n",
            "updating: logs/validation/ (stored 0%)\n",
            "updating: logs/validation/events.out.tfevents.1600347292.a0375cdf3e92.1476.2838.v2 (deflated 63%)\n"
          ],
          "name": "stdout"
        },
        {
          "output_type": "display_data",
          "data": {
            "application/javascript": [
              "\n",
              "    async function download(id, filename, size) {\n",
              "      if (!google.colab.kernel.accessAllowed) {\n",
              "        return;\n",
              "      }\n",
              "      const div = document.createElement('div');\n",
              "      const label = document.createElement('label');\n",
              "      label.textContent = `Downloading \"${filename}\": `;\n",
              "      div.appendChild(label);\n",
              "      const progress = document.createElement('progress');\n",
              "      progress.max = size;\n",
              "      div.appendChild(progress);\n",
              "      document.body.appendChild(div);\n",
              "\n",
              "      const buffers = [];\n",
              "      let downloaded = 0;\n",
              "\n",
              "      const channel = await google.colab.kernel.comms.open(id);\n",
              "      // Send a message to notify the kernel that we're ready.\n",
              "      channel.send({})\n",
              "\n",
              "      for await (const message of channel.messages) {\n",
              "        // Send a message to notify the kernel that we're ready.\n",
              "        channel.send({})\n",
              "        if (message.buffers) {\n",
              "          for (const buffer of message.buffers) {\n",
              "            buffers.push(buffer);\n",
              "            downloaded += buffer.byteLength;\n",
              "            progress.value = downloaded;\n",
              "          }\n",
              "        }\n",
              "      }\n",
              "      const blob = new Blob(buffers, {type: 'application/binary'});\n",
              "      const a = document.createElement('a');\n",
              "      a.href = window.URL.createObjectURL(blob);\n",
              "      a.download = filename;\n",
              "      div.appendChild(a);\n",
              "      a.click();\n",
              "      div.remove();\n",
              "    }\n",
              "  "
            ],
            "text/plain": [
              "<IPython.core.display.Javascript object>"
            ]
          },
          "metadata": {
            "tags": []
          }
        },
        {
          "output_type": "display_data",
          "data": {
            "application/javascript": [
              "download(\"download_5ff8b94f-d892-4f5c-b8ba-42f50e152dcd\", \"logs.zip\", 164891)"
            ],
            "text/plain": [
              "<IPython.core.display.Javascript object>"
            ]
          },
          "metadata": {
            "tags": []
          }
        }
      ]
    },
    {
      "cell_type": "code",
      "metadata": {
        "id": "RuCjbtJQXDwD",
        "colab_type": "code",
        "colab": {}
      },
      "source": [
        "!cp -r kaggle.hdf5 '/content/drive/My Drive/'"
      ],
      "execution_count": 10,
      "outputs": []
    },
    {
      "cell_type": "code",
      "metadata": {
        "id": "KR6ouu7RHXIh",
        "colab_type": "code",
        "colab": {
          "base_uri": "https://localhost:8080/",
          "height": 88
        },
        "outputId": "db20615e-dab4-4a40-c0a4-a08cf4edb98a"
      },
      "source": [
        "predictP = 'DATA/seg_pred'\n",
        "\n",
        "predGen = testDataGen.flow_from_directory(\n",
        "    testP,\n",
        "    target_size = (150,150),\n",
        "    batch_size = 64,\n",
        "    class_mode = 'categorical')\n",
        "\n",
        "history = model.evaluate(predGen)\n",
        "print(history)"
      ],
      "execution_count": 15,
      "outputs": [
        {
          "output_type": "stream",
          "text": [
            "Found 3000 images belonging to 6 classes.\n",
            "47/47 [==============================] - 5s 99ms/step - loss: 0.5318 - acc: 0.8147 - mean_squared_error: 0.0453 - precision: 0.8375 - recall: 0.7970\n",
            "[0.5318471193313599, 0.8146666884422302, 0.04534135013818741, 0.8374781012535095, 0.796999990940094]\n"
          ],
          "name": "stdout"
        }
      ]
    },
    {
      "cell_type": "code",
      "metadata": {
        "id": "JmbeN_UyP4VQ",
        "colab_type": "code",
        "colab": {
          "base_uri": "https://localhost:8080/",
          "height": 34
        },
        "outputId": "eec76cc2-c9d9-41f1-fa58-ea8640545a11"
      },
      "source": [
        "evalution = testDataGen.flow_from_directory(\n",
        "    trainP,\n",
        "    target_size = (150, 150),\n",
        "    batch_size = 64,\n",
        "    class_mode = 'categorical'\n",
        ")"
      ],
      "execution_count": 13,
      "outputs": [
        {
          "output_type": "stream",
          "text": [
            "Found 14034 images belonging to 6 classes.\n"
          ],
          "name": "stdout"
        }
      ]
    },
    {
      "cell_type": "code",
      "metadata": {
        "id": "lx6_FCWuROns",
        "colab_type": "code",
        "colab": {}
      },
      "source": [
        "trueLable = []\n",
        "predictionLable = []\n",
        "for i in range (218):\n",
        "    X, y = evalution.next()\n",
        "    trueLable.append(np.argmax(y, axis = -1))\n",
        "    predictionLable.append(np.argmax(model.predict(X), axis = -1))\n",
        "\n",
        "trueLable = np.array(trueLable)\n",
        "predictionLable = np.array(predictionLable)\n",
        "trueLable = trueLable.reshape(-1)\n",
        "predictionLable = predictionLable.reshape(-1)"
      ],
      "execution_count": 15,
      "outputs": []
    },
    {
      "cell_type": "code",
      "metadata": {
        "id": "zhSxlbrbW45z",
        "colab_type": "code",
        "colab": {
          "base_uri": "https://localhost:8080/",
          "height": 445
        },
        "outputId": "4790674c-50ff-4940-cbb5-09311e59b1f0"
      },
      "source": [
        "import seaborn as sns\n",
        "import pandas as pd\n",
        "\n",
        "matrix = math.confusion_matrix(trueLable, predictionLable)\n",
        "matrix = np.array(matrix)\n",
        "label = ['buildings', 'forest', 'glacier', 'mountain', 'sea', 'street']\n",
        "df = pd.DataFrame(matrix, index = label, columns = label)\n",
        "plt.figure(figsize = (10,7))\n",
        "sns.heatmap(df, annot = True)\n"
      ],
      "execution_count": 36,
      "outputs": [
        {
          "output_type": "execute_result",
          "data": {
            "text/plain": [
              "<matplotlib.axes._subplots.AxesSubplot at 0x7f1f0d2cbdd8>"
            ]
          },
          "metadata": {
            "tags": []
          },
          "execution_count": 36
        },
        {
          "output_type": "display_data",
          "data": {
            "image/png": "[encoded data removed]",
            "text/plain": [
              "<Figure size 720x504 with 2 Axes>"
            ]
          },
          "metadata": {
            "tags": [],
            "needs_background": "light"
          }
        }
      ]
    }
  ]
}